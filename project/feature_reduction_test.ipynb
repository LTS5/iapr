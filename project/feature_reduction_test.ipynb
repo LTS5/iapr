{
 "cells": [
  {
   "attachments": {},
   "cell_type": "markdown",
   "metadata": {},
   "source": [
    "How to use PCA for reduction. Note that the features are completely randomly generated here, the explained variance of an actual dataset should be higher, for example 97 % should be explained."
   ]
  },
  {
   "cell_type": "code",
   "execution_count": null,
   "metadata": {},
   "outputs": [],
   "source": [
    "from feature_reduction import *\n",
    "import numpy as np\n",
    "\n",
    "# Create data, this is random here but ofcourse wont be later\n",
    "N = 50 # Number of samples\n",
    "D = 20 # Number of features per sample\n",
    "x = np.random.random((N,D))\n",
    "\n",
    "print(f'Dimension of data before feature dimension reduction: {x.shape}')\n",
    "\n",
    "# Reduce the feature dimension to d\n",
    "d = 5\n",
    "\n",
    "y, exvar = PCA(x,d)\n",
    "\n",
    "print(f'Dimension of data after feature dimension reduction: {y.shape}')\n",
    "\n",
    "# Print how much of the variance the d features explain with respect to the entire feature vectors\n",
    "print(f'The total variance explained by the first {d} principal components is {exvar:.3f} %')"
   ]
  }
 ],
 "metadata": {
  "kernelspec": {
   "display_name": "EE451",
   "language": "python",
   "name": "python3"
  },
  "language_info": {
   "codemirror_mode": {
    "name": "ipython",
    "version": 3
   },
   "file_extension": ".py",
   "mimetype": "text/x-python",
   "name": "python",
   "nbconvert_exporter": "python",
   "pygments_lexer": "ipython3",
   "version": "3.10.9"
  },
  "orig_nbformat": 4
 },
 "nbformat": 4,
 "nbformat_minor": 2
}
