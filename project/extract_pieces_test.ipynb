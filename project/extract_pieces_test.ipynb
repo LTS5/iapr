{
 "cells": [
  {
   "cell_type": "code",
   "execution_count": 10,
   "metadata": {},
   "outputs": [],
   "source": [
    "import os\n",
    "import numpy as np\n",
    "# Copy of func to load images\n",
    "def load_input_image(image_index, folder=\"train\", path=\"data_project\"):\n",
    "        filename = \"train_{}.png\".format(str(image_index).zfill(2))\n",
    "        return np.array(Image.open(os.path.join(path,folder,filename)).convert('RGB'))"
   ]
  },
  {
   "attachments": {},
   "cell_type": "markdown",
   "metadata": {},
   "source": [
    "## Quick without visualizations"
   ]
  },
  {
   "cell_type": "code",
   "execution_count": null,
   "metadata": {},
   "outputs": [],
   "source": [
    "from extract_pieces import *\n",
    "\n",
    "images = [load_input_image(i) for i in range(12)]\n",
    "\n",
    "puzzle_pieces = [find_puzzle_pieces(image) for image in images]\n",
    "# [[piece1, piece2, ...], [piece1, piece2, ...], ...]\n",
    "\n",
    "# Would be this one uses forwards"
   ]
  },
  {
   "cell_type": "code",
   "execution_count": null,
   "metadata": {},
   "outputs": [],
   "source": [
    "# Double check that answers are good\n",
    "num_pieces = [len(image_pieces) for image_pieces in puzzle_pieces]\n",
    "answers = np.array([28, 21, 28, 21, 20, 28, 29, 28, 27, 29, 28, 19])\n",
    "print(((np.array(num_pieces) - answers) == 0).all())"
   ]
  },
  {
   "attachments": {},
   "cell_type": "markdown",
   "metadata": {},
   "source": [
    "---"
   ]
  },
  {
   "attachments": {},
   "cell_type": "markdown",
   "metadata": {},
   "source": [
    "## Visualize all results"
   ]
  },
  {
   "cell_type": "code",
   "execution_count": null,
   "metadata": {},
   "outputs": [],
   "source": [
    "for image in images:\n",
    "    find_puzzle_pieces(image, plot_results=True)"
   ]
  },
  {
   "attachments": {},
   "cell_type": "markdown",
   "metadata": {},
   "source": [
    "## Visualize prosess for one image"
   ]
  },
  {
   "cell_type": "code",
   "execution_count": null,
   "metadata": {},
   "outputs": [],
   "source": [
    "find_puzzle_pieces(images[2], plot_results=True, plot_intermediate=True);"
   ]
  }
 ],
 "metadata": {
  "kernelspec": {
   "display_name": "patreg",
   "language": "python",
   "name": "python3"
  },
  "language_info": {
   "codemirror_mode": {
    "name": "ipython",
    "version": 3
   },
   "file_extension": ".py",
   "mimetype": "text/x-python",
   "name": "python",
   "nbconvert_exporter": "python",
   "pygments_lexer": "ipython3",
   "version": "3.10.9"
  },
  "orig_nbformat": 4
 },
 "nbformat": 4,
 "nbformat_minor": 2
}
