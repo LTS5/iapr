{
 "cells": [
  {
   "cell_type": "code",
   "execution_count": null,
   "metadata": {},
   "outputs": [],
   "source": [
    "import os\n",
    "import numpy as np\n",
    "# Copy of func to load images\n",
    "def load_input_image(image_index, folder=\"train\", path=\"data_project\"):\n",
    "        filename = \"train_{}.png\".format(str(image_index).zfill(2))\n",
    "        return np.array(Image.open(os.path.join(path,folder,filename)).convert('RGB'))"
   ]
  },
  {
   "cell_type": "code",
   "execution_count": null,
   "metadata": {},
   "outputs": [],
   "source": [
    "from feature_extractor import *\n",
    "from extract_pieces import *\n",
    "\n",
    "# Load the image\n",
    "image = load_input_image(0)\n",
    "\n",
    "# Extract the pieces\n",
    "puzzle_pieces = find_puzzle_pieces(image)\n",
    "\n",
    "# Plot puzzle pieces\n",
    "fig, axs = plt.subplots(1, len(puzzle_pieces), figsize=(30, 30))\n",
    "for i in range(len(puzzle_pieces)):\n",
    "    axs[i].imshow(puzzle_pieces[i])\n",
    "    axs[i].set_xticks([]); axs[i].set_yticks([])\n",
    "plt.show()\n",
    "\n",
    "features = extract_features(puzzle_pieces, use_pca = True, d = 3)\n",
    "\n",
    "# [[piece1, piece2, ...], [piece1, piece2, ...], ...]\n",
    "\n",
    "# Would be this one uses forwards"
   ]
  }
 ],
 "metadata": {
  "kernelspec": {
   "display_name": "EE451",
   "language": "python",
   "name": "python3"
  },
  "language_info": {
   "codemirror_mode": {
    "name": "ipython",
    "version": 3
   },
   "file_extension": ".py",
   "mimetype": "text/x-python",
   "name": "python",
   "nbconvert_exporter": "python",
   "pygments_lexer": "ipython3",
   "version": "3.10.9"
  },
  "orig_nbformat": 4
 },
 "nbformat": 4,
 "nbformat_minor": 2
}
