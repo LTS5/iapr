{
 "cells": [
  {
   "cell_type": "markdown",
   "metadata": {},
   "source": [
    "# [IAPR][iapr]: Lab 1 ‒  Image segmentation\n",
    "\n",
    "\n",
    "**Group ID:** xx\n",
    "\n",
    "**Author 1 (sciper):** Student Name 1 (xxxxx)  \n",
    "**Author 2 (sciper):** Student Name 2 (xxxxx)   \n",
    "**Author 3 (sciper):** Student Name 3 (xxxxx)   \n",
    "\n",
    "**Release date:** 12.03.2021  \n",
    "**Due date:** 26.03.2021 \n",
    "\n",
    "\n",
    "## Important notes\n",
    "\n",
    "The lab assignments are designed to teach practical implementation of the topics presented during class well as preparation for the final project, which is a practical project which ties together the topics of the course. \n",
    "\n",
    "As such, in the lab assignments/final project, unless otherwise specified, you may, if you choose, use external functions from image processing/ML libraries like opencv and sklearn as long as there is sufficient explanation in the lab report. For example, you do not need to implement your own edge detector, etc.\n",
    "\n",
    "**! Before handling back the notebook !** rerun the notebook from scratch `Kernel` > `Restart & Run All`\n",
    "\n",
    "\n",
    "[iapr]: https://github.com/LTS5/iapr"
   ]
  },
  {
   "cell_type": "markdown",
   "metadata": {},
   "source": [
    "---\n",
    "## 0. Extract relevant data\n",
    "We first need to extract the `lab-01-data.tar.gz` archive.\n",
    "To this end, we use the [tarfile] module from the Python standard library.\n",
    "\n",
    "[tarfile]: https://docs.python.org/3.6/library/tarfile.html"
   ]
  },
  {
   "cell_type": "code",
   "execution_count": 1,
   "metadata": {},
   "outputs": [],
   "source": [
    "import tarfile\n",
    "import os\n",
    "import skimage.io\n",
    "import matplotlib.pyplot as plt\n",
    "\n",
    "data_base_path = os.path.join(os.pardir, 'data')\n",
    "data_folder = 'lab-01-data'\n",
    "tar_path = os.path.join(data_base_path, data_folder + '.tar.gz')\n",
    "\n",
    "if not os.path.exists(tar_path):\n",
    "    raise Exception('Path to is not valid {}'.format(tar_path))\n",
    "    \n",
    "with tarfile.open(tar_path, mode='r:gz') as tar:\n",
    "    tar.extractall(path=data_base_path)"
   ]
  },
  {
   "cell_type": "markdown",
   "metadata": {},
   "source": [
    "---\n",
    "# FUNCTIONS"
   ]
  },
  {
   "cell_type": "code",
   "execution_count": 2,
   "metadata": {},
   "outputs": [],
   "source": [
    "# Place functions that we coded below:"
   ]
  },
  {
   "cell_type": "markdown",
   "metadata": {},
   "source": [
    "---\n",
    "## Part 1: Brain segmentation\n",
    "\n",
    "Your goal: compute the size of the brain (without the skull) in pixels in a 2D image of a human head taken by Magnetic Resonance Imaging (MRI) using:\n",
    "* Region growing (5 pts)\n",
    "* Contour detection (5 pts)\n",
    "* Additional method of your choice (5 pts)\n",
    "\n",
    "Each section should display the resulting segmenttion as well as the size in pixel of the detected region. Comment each method limitations and/or advantages."
   ]
  },
  {
   "cell_type": "markdown",
   "metadata": {},
   "source": [
    "### 1.1 Brain image visualization"
   ]
  },
  {
   "cell_type": "code",
   "execution_count": null,
   "metadata": {},
   "outputs": [],
   "source": [
    "%matplotlib inline\n",
    "\n",
    "# Load image\n",
    "data_path = os.path.join(data_base_path, data_folder)\n",
    "brain_im = skimage.io.imread(os.path.join(data_path, 'brain-slice40.tiff'))\n",
    "im_h, im_w = brain_im.shape\n",
    "\n",
    "# Display MRI image\n",
    "fig, ax = plt.subplots(1, 1, figsize=(6, 6))\n",
    "ax.imshow(brain_im, cmap='gray')\n",
    "ax.set_title('MRI brain image ({} px, {} px)'.format(im_h, im_w))\n",
    "ax.axis('off')\n",
    "plt.show()"
   ]
  },
  {
   "cell_type": "markdown",
   "metadata": {},
   "source": [
    "### 1.2 Region growing (5pts)"
   ]
  },
  {
   "cell_type": "code",
   "execution_count": null,
   "metadata": {},
   "outputs": [],
   "source": [
    "# Add your implementation and discussion"
   ]
  },
  {
   "cell_type": "markdown",
   "metadata": {},
   "source": [
    "### 1.3 Contour detection (5pts)"
   ]
  },
  {
   "cell_type": "code",
   "execution_count": null,
   "metadata": {},
   "outputs": [],
   "source": [
    "# Add your implementation and discussion"
   ]
  },
  {
   "cell_type": "markdown",
   "metadata": {},
   "source": [
    "### 1.4 Additional method (5pts)"
   ]
  },
  {
   "cell_type": "code",
   "execution_count": null,
   "metadata": {},
   "outputs": [],
   "source": [
    "# Add your implementation and discussion"
   ]
  },
  {
   "cell_type": "markdown",
   "metadata": {},
   "source": [
    "---\n",
    "## Part 2: Shape/color segmentation\n",
    "\n",
    "You will find hereafter three pictures taken under three different illuminations, containing some shapes with different colors. We ask you to create a routine to:\n",
    "\n",
    "1. Count the number of shapes of each color (5pts).\n",
    "2. Compute the total area (in pixels) of each color (5pts).\n",
    "\n",
    "Please note that one specific challenge is to be robust to illumination changes. Therefore some kind of intensity normalization should probably be used."
   ]
  },
  {
   "cell_type": "markdown",
   "metadata": {},
   "source": [
    "### 2.1 Visualization"
   ]
  },
  {
   "cell_type": "code",
   "execution_count": null,
   "metadata": {},
   "outputs": [],
   "source": [
    "# Load images\n",
    "im_names = ['arena-shapes-01', 'arena-shapes-02', 'arena-shapes-03']\n",
    "filenames = [os.path.join(data_path, name) + '.png' for name in im_names]\n",
    "ic = skimage.io.imread_collection(filenames)\n",
    "images = skimage.io.concatenate_images(ic)\n",
    "print('Number of images: ', images.shape[0])\n",
    "print('Image size: {}, {} '.format(images.shape[1], images.shape[2]))\n",
    "print('Number of color channels: ', images.shape[-1])"
   ]
  },
  {
   "cell_type": "code",
   "execution_count": null,
   "metadata": {},
   "outputs": [],
   "source": [
    "# Plot images\n",
    "fig, axes = plt.subplots(1, 3, figsize=(12, 12))\n",
    "for ax, im, nm in zip(axes.ravel(), images, im_names):\n",
    "    ax.imshow(im)\n",
    "    ax.axis('off')\n",
    "    ax.set_title(nm)\n",
    "plt.show()"
   ]
  },
  {
   "cell_type": "markdown",
   "metadata": {},
   "source": [
    "### 2.2 Number of shapes of each color (5 pts)"
   ]
  },
  {
   "cell_type": "code",
   "execution_count": null,
   "metadata": {},
   "outputs": [],
   "source": [
    "# Add your implementation and discussion\n",
    "\n",
    "from scipy.signal import find_peaks\n",
    "import cv2 as cv\n",
    "import numpy as np\n",
    "\n",
    "def buildMask(img, channel, limits, negative=False):\n",
    "    # masks pixels with a value outside of limits\n",
    "    # channel: channel to mask\n",
    "    # limits[2]: intensity values of pixels. Pixels with values outside will be masked\n",
    "    # negative: invert the mask\n",
    "    mask = np.zeros(img[:,:,0].shape, np.uint8)\n",
    "    if negative:\n",
    "        mask[np.logical_and(img[:,:,2] > limits[0], img[:,:,2] < limits[1])] = 255\n",
    "    else:\n",
    "        mask[np.logical_or(img[:,:,2] < limits[0], img[:,:,2] > limits[1])] = 255\n",
    "    return mask\n",
    "\n",
    "\n",
    "def findHistRegion(hist):\n",
    "    # find region in histogram where values are at least min_pixels\n",
    "\n",
    "    # find highest peak\n",
    "    peak_id = np.argmax(hist)\n",
    "    peak = hist[peak_id]\n",
    "    \n",
    "    # find limits of peak\n",
    "    low_value_found = False\n",
    "    count = 0\n",
    "\n",
    "    for i in range(peak_id, len(hist), 1):\n",
    "        if hist[i] < peak*0.01:\n",
    "            if count >= 10:                 # check if next 10 points are also under 1% of peak\n",
    "                break\n",
    "            elif low_value_found:           # increase count of low values found\n",
    "                count += 1\n",
    "            else:\n",
    "                idx_after = i              # save idx value\n",
    "                low_value_found = True      # start checking next 10 points\n",
    "        elif low_value_found:               # if encounter another point above 1%, reset count\n",
    "            low_value_found = False\n",
    "            count = 0\n",
    "\n",
    "    low_value_found = False\n",
    "    count = 0\n",
    "\n",
    "    for i in range(peak_id, 0, -1):\n",
    "        if hist[i] < peak*0.01:\n",
    "            if count >= 10:                 # check if next 10 points are also under 1% of peak\n",
    "                break\n",
    "            elif low_value_found:           # increase count of low values found\n",
    "                count += 1\n",
    "            else:\n",
    "                idx_before = i              # save idx value\n",
    "                low_value_found = True      # start checking next 10 points\n",
    "        elif low_value_found:               # if encounter another point above 1%, reset count\n",
    "            low_value_found = False\n",
    "            count = 0\n",
    "\n",
    "    return [idx_before-5, idx_after+5]      # add 5 to each side to expand peak\n",
    "\n",
    "def findHistRegionOld(hist, min_pixels=500):\n",
    "    # find region in histogram where values are at least min_pixels\n",
    "    for i,n in enumerate(hist):\n",
    "        if n > min_pixels:\n",
    "            low_value = i\n",
    "            break\n",
    "    for i,n in enumerate(hist[::-1]):\n",
    "        if n > min_pixels:\n",
    "            high_value = len(hist)-i\n",
    "            break\n",
    "    return [low_value-5, high_value+5]\n",
    "\n",
    "def findHistPeaks(hist, n_peaks, peak_distance=20):\n",
    "    # find first \"n_peaks\" of peaks in histogram\n",
    "    # peak_distance: minimum distance between two peaks\n",
    "    peaks_idx,_ = find_peaks(hist.reshape(-1), distance=peak_distance)\n",
    "    peaks = hist[peaks_idx].reshape(-1)\n",
    "    peaks_sorted = sorted(((value, index) for index, value in zip(peaks_idx,peaks)), reverse=True)\n",
    "    return [x[1] for x in peaks_sorted[:n_peaks]]         # keep only indexs of first n_peaks\n",
    "\n",
    "def getColorRegions(color1, color2, background):\n",
    "    if color1 < background[0] and color2 < background[0]:\n",
    "        return [(0,(color1+color2)/2), ((color1+color2)/2+1,background[0]-1)]\n",
    "    elif color1 < background[0] and color2 > background[1]:\n",
    "        return [(0,background[0]-1), (background[1]+1,255)]\n",
    "    elif color1 > background[1] and color2 > background[1]:\n",
    "        return [(bakground[0],(color1+color2)/2), ((color1+color2)/2+1,255)]\n",
    "    else:\n",
    "        raise Exception('colors found not valid')\n",
    "\n",
    "def getMasksColor(img):\n",
    "    # returns the masks of two colors in the image\n",
    "\n",
    "    # full histogram\n",
    "    hist = cv.calcHist([img],[2],None,[256],[0,256])\n",
    "    #plt.plot(hist)\n",
    "    #plt.show\n",
    "\n",
    "    # find limit of background intensity\n",
    "    limits = findHistRegion(hist)\n",
    "\n",
    "    # build mask to ignore background\n",
    "    mask_background = buildMask(img, 2, limits)\n",
    "    \n",
    "    # histogram of masked image\n",
    "    hist_mask = cv.calcHist([img],[2],mask_background,[256],[0,256])\n",
    "    #plt.plot(hist_mask)\n",
    "    #plt.show\n",
    "\n",
    "    # get two peaks\n",
    "    peak_idx = findHistPeaks(hist_mask, n_peaks = 2, peak_distance = 20)\n",
    "    if peak_idx[0] > peak_idx[1]: peak_idx = peak_idx[::-1]         # sort peak_idx\n",
    "\n",
    "    # get color regions\n",
    "    color_regions = getColorRegions(peak_idx[0], peak_idx[1], limits)\n",
    "\n",
    "    # build masks of two colors\n",
    "    mask1 = buildMask(img, 2, color_regions[0], negative=True)\n",
    "    mask2 = buildMask(img, 2, color_regions[1], negative=True)\n",
    "\n",
    "    return [mask1,mask2], peak_idx\n",
    "\n",
    "\n",
    "for n_image in range(3):\n",
    "    # get image\n",
    "    img = images[n_image].copy()\n",
    "\n",
    "    # get the masks corresponding to each color\n",
    "    masks, peak_idx = getMasksColor(img)\n",
    "    mask1, mask2 = masks\n",
    "\n",
    "    # opening and closing\n",
    "    kernel = cv.getStructuringElement(cv.MORPH_ELLIPSE, (3,3))\n",
    "    mask1 = cv.morphologyEx(mask1, cv.MORPH_CLOSE, kernel)\n",
    "    mask1 = cv.morphologyEx(mask1, cv.MORPH_OPEN, kernel)\n",
    "    mask2 = cv.morphologyEx(mask2, cv.MORPH_CLOSE, kernel)\n",
    "    mask2 = cv.morphologyEx(mask2, cv.MORPH_OPEN, kernel)\n",
    "\n",
    "    # find contours of area big enough to avoid false contour detections\n",
    "    contours1,_ = cv.findContours(mask1, cv.RETR_EXTERNAL, cv.CHAIN_APPROX_NONE)\n",
    "    contours_valid1 = []\n",
    "    for c in contours1:\n",
    "        if cv.contourArea(c) > 100:\n",
    "            contours_valid1.append(c) \n",
    "    contours2,_ = cv.findContours(mask2, cv.RETR_EXTERNAL, cv.CHAIN_APPROX_NONE)\n",
    "    contours_valid2 = []\n",
    "    for c in contours2:\n",
    "        if cv.contourArea(c) > 100:\n",
    "            contours_valid2.append(c) \n",
    "    \n",
    "    # compute area\n",
    "    area1 = 0\n",
    "    area2 = 0\n",
    "    for c in contours_valid1:\n",
    "        area1 += cv.contourArea(c)\n",
    "    for c in contours_valid2:\n",
    "        area2 += cv.contourArea(c)\n",
    "\n",
    "    # count regoins\n",
    "    print('IMAGE {}'.format(n_image))\n",
    "    print('There are {} shapes of color 1 (blue intensity = {}) with an area of {} pixels'.format(len(contours_valid1), peak_idx[0], area1))\n",
    "    print('There are {} shapes of color 2 (blue intensity = {}) with an area of {} pixels'.format(len(contours_valid2), peak_idx[1], area2))\n",
    "\n",
    "    # draw contours\n",
    "    mask1 = np.expand_dims(mask1, axis=2)\n",
    "    mask1 = np.concatenate((mask1,mask1,mask1),axis=2)\n",
    "    cv.drawContours(mask1, contours_valid1[:], -1, (0,255,0), 2)\n",
    "    mask2 = np.expand_dims(mask2, axis=2)\n",
    "    mask2 = np.concatenate((mask2,mask2,mask2),axis=2)\n",
    "    cv.drawContours(mask2, contours_valid2[:], -1, (0,255,0), 2)\n",
    "\n",
    "    # plot images\n",
    "    fig, ax = plt.subplots(1, 3, figsize=(21, 6))\n",
    "    ax[0].imshow(img, cmap='gray')\n",
    "    ax[0].set_title('Original image {}'.format(n_image))\n",
    "    ax[0].axis('off')\n",
    "    ax[1].imshow(mask1, cmap='gray')\n",
    "    ax[1].set_title('Mask of color 1')\n",
    "    ax[1].axis('off')\n",
    "    ax[2].imshow(mask2, cmap='gray')\n",
    "    ax[2].set_title('Mask of color 2')\n",
    "    ax[2].axis('off')\n",
    "    plt.show()\n"
   ]
  },
  {
   "cell_type": "markdown",
   "metadata": {},
   "source": [
    "### 2.3 Total area (in pixels) of each color (5 pts)"
   ]
  },
  {
   "cell_type": "code",
   "execution_count": null,
   "metadata": {},
   "outputs": [],
   "source": [
    "# Add your implementation and discussion"
   ]
  }
 ],
 "metadata": {
  "kernelspec": {
   "display_name": "Python 3",
   "language": "python",
   "name": "python3"
  },
  "language_info": {
   "codemirror_mode": {
    "name": "ipython",
    "version": 3
   },
   "file_extension": ".py",
   "mimetype": "text/x-python",
   "name": "python",
   "nbconvert_exporter": "python",
   "pygments_lexer": "ipython3",
   "version": "3.6.9"
  }
 },
 "nbformat": 4,
 "nbformat_minor": 4
}